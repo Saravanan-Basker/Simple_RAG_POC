{
 "cells": [
  {
   "cell_type": "code",
   "execution_count": 1,
   "id": "1e9cacce-6d9a-4570-965b-c74d41695a03",
   "metadata": {},
   "outputs": [],
   "source": [
    "from langchain_community.document_loaders import UnstructuredURLLoader\n",
    "urls = ['https://www.exelatech.com','https://www.exelatech.com/about-us','https://www.exelatech.com/careers']\n",
    "loader = UnstructuredURLLoader(urls=urls)\n",
    "data = loader.load()  "
   ]
  },
  {
   "cell_type": "code",
   "execution_count": 2,
   "id": "3b0ac3d6-0c7c-499f-a7af-e6330ac08373",
   "metadata": {},
   "outputs": [
    {
     "data": {
      "text/plain": [
       "[Document(metadata={'source': 'https://www.exelatech.com'}, page_content='Driving Growth and Innovation through Business Process Automation\\n\\nExela Technologies BPA, LLC is a global leader in business process automation (BPA). We help businesses automate their processes, improve efficiency, and reduce costs. Our solutions are used by a wide range of customers, including Fortune 500 companies, government agencies, and healthcare organizations.\\n\\nWe have a proven track record of success and are well-positioned to continue to grow in the future. We are the recipient of numerous awards for our innovation and customer service.\\n\\nOur current and emerging award-winning solutions include:\\n\\nLiquidity Solutions:\\n\\nAutomate key financial processes for time-saving, accuracy, and risk reduction.\\n\\nHuman Capital Management:\\n\\nStreamline HR tasks like payroll and recruitment for cost-saving and improved talent management.\\n\\nHealthcare Payers and Revenue Cycle Management (RCM):\\n\\nAutomate claims and revenue cycle processes to cut costs and enhance workflows.\\n\\nPayment Technologies and Services:\\n\\nEnhance payment processing, manage cash flow, and reduce fraud for quicker payments.\\n\\nData Science Solutions:\\n\\nLeverage data for insightful decisions, trend identification, and optimized operations.\\n\\nHyper Automation and Work From Anywhere (WFA) Services:\\n\\nEnable efficient remote work and process automation for increased productivity.\\n\\nNeed a partner for business process automation?\\n\\nExela Technologies BPA, LLC offers the experience, solutions, and team to drive your success.\\n\\nFeatured Business Innovation Offerings\\n\\nXBP Logo\\n\\nTreasury-as-a-Service\\n\\nDelivering banks comprehensive billing, cash management, and treasury services to improve customer satisfaction and wallet-share.\\n\\nRead more\\n\\nDrySign Logo\\n\\nEveryday Signing Made Easy\\n\\nSecure and legally binding signatures on the go.\\n\\nRead more\\n\\nDigital Mailroom Logo\\n\\nDigital Mailroom\\n\\nStreamline your mail delivery process.\\n\\nRead more\\n\\nEHRS Logo\\n\\nRevolutionizing Human Resource Management\\n\\nPowerful HR solutions to accelerate performance and business growth.\\n\\nRead more\\n\\nPCH Global\\n\\nPCH Global\\n\\nExperience a unified environment between providers, payers, and patients with a centralized access for claims management.\\n\\nRead more\\n\\nXME Logo\\n\\nDriving Market Results\\n\\nIntegrated solutions to execute end-to-end marketing approach.\\n\\nRead more\\n\\nXES Logo\\n\\nExela Enterprise Solutions\\n\\nTransform your business with the power of human insight and technology with Exela Enterprise Solutions.\\n\\nRead more\\n\\nSee all Solutions\\n\\nXBP\\n\\nOptimize Accounts Payables and Receivables in One Simple Platform\\n\\nAs a global leader in business process automation, we’re constantly refining our technologies and developing ideas to better serve our 4,000+ customers in more than 50 countries. We connect clashing systems, upgrade inefficient processes, and provide the customized insights you need to elevate your organization.\\n\\nLearn more about XBP\\n\\nXBP\\n\\nPCH Global\\n\\nTransforming Claims Processing - For Both Payers and Providers\\n\\nExela’s PCH Global is a digital exchange and medical claims processing platform that creates a single point of access for optimized claims submission, processing, and management for both payers and providers.\\n\\nThrough digitization and automation, the platform can deliver a reduction in pended claims of more than 30%, more than a 21% reduction in claims redetermination requests, and 24% fewer clinical edit exceptions.\\n\\nLearn more about PCH\\n\\nPCH Global\\n\\nExela Smart Office\\n\\nAutomate Processes from the Front Desk to the Back Office\\n\\nExela Smart Office is a suite of interconnected workplace technologies and services. Find out how business process automation tools can enhance your employee and visitor experience, optimize space and energy usage, and streamline daily processes.\\n\\nExplore the Exela Smart Office Suite\\n\\nExela Smart Office'),\n",
       " Document(metadata={'source': 'https://www.exelatech.com/about-us'}, page_content='Our Journey in Leading Digital Transformation\\n\\nExela Technologies BPA, LLC is a business process automation (BPA) leader, leveraging a global footprint and proprietary technology to provide digital transformation solutions enhancing quality, productivity, and end-user experience. With decades of experience operating mission-critical processes, Exela serves a growing roster of more than 4,000 customers throughout 50 countries, including over 60% of the Fortune® 100.\\n\\nUtilizing foundational technologies spanning information management, workflow automation, and integrated communications, Exela’s software and services include multi-industry, departmental solution suites addressing finance and accounting, human capital management, and legal management, as well as industry-specific solutions for banking, healthcare, insurance, and the public sector. Through cloud-enabled platforms, built on a configurable stack of automation modules, and approximately 13,100 employees operating in 21 countries, Exela rapidly deploys integrated technology and operations as an end-to-end digital journey partner.\\n\\nExela’s Vision\\n\\nWe are currently at the beginning stages of the Fourth Industrial Revolution, which is marked by the rise of cognitive automation, machine learning, and artificial intelligence. Exela envisions a future where paper-based processes are almost entirely replaced by digital workflows. This will lead the business world toward greater sustainability, and improved efficiency, accuracy, and cost effectiveness. We are poised to be a leader in this effort through the deployment of our current solutions, the continual refinement and enhancement of our technologies, and through innovation to develop the tools necessary to produce BPM value in the technology-centric future.\\n\\nExela’s Vision\\n\\nExela’s Mission\\n\\nOur mission is to accelerate digital transformation through the deployment and continual development and refinement of our skilled global workforce, time-tested operations, and innovative hardware, software, and automation solutions.\\n\\nExela’s Mission\\n\\nExela’s Values\\n\\nOur values - authenticity, accountability, and action - stand at the forefront of everything we do. Through these values, we will inspire trust and confidence in those that depend on us - our customers, our employees, our shareholders, and the communities we support.\\n\\nExela’s Values\\n\\nAuthenticity\\n\\nAuthenticity\\n\\nWe communicate openly and accept others for who they are. We believe in our mission and in Exela’s ability to embrace complexity and deliver simplicity. We believe we can solve challenges more effectively than they are being solved, across industries. That belief is rooted in our technology enablement, which we use to formulate our solutions. We listen, we learn, we grow, and we remain true to our values regardless of the situation.\\n\\nAccountability\\n\\nAccountability\\n\\nWe are an organization of people who take pride in what we do and we rise above expectations because we are outcome oriented. We honor commitments to our customers and one another with integrity to solve problems and find solutions.\\n\\nAction\\n\\nAction\\n\\nWe are a team of individuals whose collective experience is vast. We are oriented toward solutions that enable a sustainable future and better the lives of our employees and customers. We act like a start up and like independent business owners seeking to make an impact. We apply our experience and skillset to be more creative than the competition and deliver results.\\n\\nEnvironmental, Health, Safety, and Sustainability Policy\\n\\nExela Technologies BPA, LLC is committed to maintaining compliance with environmental, health, and safety regulations on local, state, and federal levels. We are dedicated to providing a safe and healthy workplace and to going above and beyond basic compliance to minimize accidents and environmental impact.\\n\\nWe pledge to provide our employees and clients with the necessary tools, processes, and procedures to properly implement an effective Environmental, Health and Safety (EHS)/Sustainability Management System.\\n\\nRead Full Policy\\n\\nEHS Infographic\\n\\nExela By The Numbers\\n\\n4000\\n\\nCustomers\\n\\n50\\n\\nCountries\\n\\n120\\n\\nDelivery Centers\\n\\n13100\\n\\nEmployees\\n\\nLocations\\n\\nLocation Map\\n\\nLeadership\\n\\nMeet our team of dedicated professionals who share a commitment to making your business even better.\\n\\nMeet Exela’s Leadership\\n\\nCareers\\n\\nJoin us at the forefront of business transformation.\\n\\nView Open Positions\\n\\nCareers\\n\\nInnovation Centers\\n\\nExperience an interactive, immersive journey covering Exela’s latest innovations.\\n\\nInnovation Centers'),\n",
       " Document(metadata={'source': 'https://www.exelatech.com/careers'}, page_content='Why Exela?\\n\\nHelp us revolutionize the way that business around the world gets done. As a member of Team Exela, you’ll join a passionate, creative, and knowledgeable group of experts covering a wide range of industries and business sectors all driven by the same goal: To accelerate digital transformation.\\n\\nA job at Exela represents an opportunity to join a vibrant community at the forefront of business innovation and to play a valuable role in an ongoing technological revolution. Exela’s core values of Authenticity, Accountability, and Action guide us to provide exceptional experiences for both our customers and our employees.\\n\\nWhy Exela?\\n\\nHealth and Wellness\\n\\nAt Exela, nothing is more important than the well-being of our team members. That’s why we offer comprehensive health and wellness plans, including medical, dental, and vision coverage for eligible employees and family members; paid time off; and commuter benefits. In addition, we offer supplemental income protection, including short-term insurance coverage.\\n\\nWe also offer a 401(k) retirement savings plan to assist eligible employees in saving for their retirement. Participants are provided access to financial wellness resources and retirement planning services.\\n\\nHealth and Wellness\\n\\nCareer Development\\n\\nOver the past 35 years, Exela Technologies has learned that one of the best ways to develop as a company is to help our team members develop their careers. In support of that, we offer comprehensive learning and development programs, online courses, and live training so that we can continue to assist members of our organization advance their professional development.\\n\\nCareer Development\\n\\nVeterans\\n\\nExela welcomes job applicants from all walks of life and backgrounds, including those who are transitioning military members, veterans, reservists, National Guard members, military spouses, and their family members. Individuals will be considered no matter their military rank or specialty.\\n\\nVeterans\\n\\nSelect a country below to check out our openings around the globe and join us on our mission to revolutionize the way business gets done.\\n\\nAsia\\n\\n\\n\\nIndia\\n\\n\\n\\nPhilippines\\n\\nEurope\\n\\nNorthern\\n\\n\\n\\nUK\\n\\n\\n\\nIreland\\n\\n\\n\\nSweden\\n\\n\\n\\nNorway\\n\\n\\n\\nDenmark\\n\\nWestern\\n\\n\\n\\nFrance\\n\\n\\n\\nBelgium\\n\\n\\n\\nNetherlands\\n\\nSouthern\\n\\n\\n\\nSerbia\\n\\n\\n\\nSpain\\n\\nCentral\\n\\n\\n\\nGermany\\n\\n\\n\\nSwitzerland\\n\\n\\n\\nAustria\\n\\nEastern\\n\\n\\n\\nPoland\\n\\nAmericas\\n\\nNorth America\\n\\n\\n\\nUnited States\\n\\n\\n\\nCanada\\n\\nLatin America\\n\\n\\n\\nMexico\\n\\nRecruitment Fraud Notice\\n\\nClick here to read the recruitment fraud notice\\n\\nEEO Statement:\\n\\nExela is committed to creating a diverse environment and is proud to be an equal opportunity employer. Qualified applicants will be considered for employment without regard to their race, color, creed, religion, national origin, ancestry, citizenship status, age, disability, gender/sex, marital status, sexual orientation, gender identity, gender expression, veteran status, genetic information or any other characteristic protected by applicable federal, state, or local laws.\\n\\nIf you’d like more information on your EEO rights under the law, please click on the links below:\\n\\nEEO is the Law\\n\\nEEO is the Law Poster Supplement\\n\\nAffirmative Action and Equal Employment Opportunity Policy Statement\\n\\nPay Transparency Nondiscrimination Provision\\n\\nExela will not discharge or in any other manner discriminate against employees or applicants because they have inquired about, discussed, or disclosed their own pay or the pay of another employee or applicant. However, employees who have access to the compensation information of other employees or applicants as a part of their essential job functions cannot disclose the pay of other employees or applicants to individuals who do not otherwise have access to compensation information, unless the disclosure is (a) in response to a formal complaint or charge, (b) in furtherance of an investigation, proceeding, hearing, or action, including an investigation conducted by the employer, or (c) consistent with Exela’s legal duty to furnish information.\\n\\nE-Verify Right To Work Posters\\n\\nTo download either the E-Verify or Right to Work Poster, please click on the link(s) below.\\n\\nOSC Right to Work Poster\\n\\nE-Verify Participation Poster\\n\\nOnline Accommodation Notice:\\n\\nExela endeavors to make www.exelatech.com accessible to any and all users. If you would like to contact us regarding the accessibility of our website or need assistance completing the application process, please contact us at recruitingsupport@exelatech.com.')]"
      ]
     },
     "execution_count": 2,
     "metadata": {},
     "output_type": "execute_result"
    }
   ],
   "source": [
    "data"
   ]
  },
  {
   "cell_type": "code",
   "execution_count": 3,
   "id": "f199854e-42d2-4357-bed2-f03d3e8e96d8",
   "metadata": {},
   "outputs": [
    {
     "name": "stdout",
     "output_type": "stream",
     "text": [
      "Total number of documents:  19\n"
     ]
    }
   ],
   "source": [
    "from langchain.text_splitter import RecursiveCharacterTextSplitter\n",
    "\n",
    "# split data\n",
    "text_splitter = RecursiveCharacterTextSplitter(chunk_size=1000)\n",
    "docs = text_splitter.split_documents(data)\n",
    "\n",
    "\n",
    "print(\"Total number of documents: \",len(docs))"
   ]
  },
  {
   "cell_type": "code",
   "execution_count": 4,
   "id": "0ecf3ac7-3181-4617-9390-fe4f3368f7a4",
   "metadata": {},
   "outputs": [
    {
     "data": {
      "text/plain": [
       "Document(metadata={'source': 'https://www.exelatech.com'}, page_content='Driving Growth and Innovation through Business Process Automation\\n\\nExela Technologies BPA, LLC is a global leader in business process automation (BPA). We help businesses automate their processes, improve efficiency, and reduce costs. Our solutions are used by a wide range of customers, including Fortune 500 companies, government agencies, and healthcare organizations.\\n\\nWe have a proven track record of success and are well-positioned to continue to grow in the future. We are the recipient of numerous awards for our innovation and customer service.\\n\\nOur current and emerging award-winning solutions include:\\n\\nLiquidity Solutions:\\n\\nAutomate key financial processes for time-saving, accuracy, and risk reduction.\\n\\nHuman Capital Management:\\n\\nStreamline HR tasks like payroll and recruitment for cost-saving and improved talent management.\\n\\nHealthcare Payers and Revenue Cycle Management (RCM):\\n\\nAutomate claims and revenue cycle processes to cut costs and enhance workflows.')"
      ]
     },
     "execution_count": 4,
     "metadata": {},
     "output_type": "execute_result"
    }
   ],
   "source": [
    "docs[0]"
   ]
  },
  {
   "cell_type": "code",
   "execution_count": 5,
   "id": "5340b0ec-7555-4d58-a034-8acec8c70aff",
   "metadata": {},
   "outputs": [
    {
     "name": "stderr",
     "output_type": "stream",
     "text": [
      "/var/folders/rm/mnlp413s2jbcq_6pl2mg0dlh0000gn/T/ipykernel_1588/443485189.py:8: LangChainDeprecationWarning: The class `HuggingFaceEmbeddings` was deprecated in LangChain 0.2.2 and will be removed in 1.0. An updated version of the class exists in the :class:`~langchain-huggingface package and should be used instead. To use it run `pip install -U :class:`~langchain-huggingface` and import as `from :class:`~langchain_huggingface import HuggingFaceEmbeddings``.\n",
      "  embedding = HuggingFaceEmbeddings(model_name=\"all-MiniLM-L6-v2\")\n"
     ]
    },
    {
     "data": {
      "application/vnd.jupyter.widget-view+json": {
       "model_id": "fe80f7c42d084939860c224d0fc7a553",
       "version_major": 2,
       "version_minor": 0
      },
      "text/plain": [
       "vocab.txt: 0.00B [00:00, ?B/s]"
      ]
     },
     "metadata": {},
     "output_type": "display_data"
    }
   ],
   "source": [
    "from langchain_chroma import Chroma\n",
    "from langchain_openai import OpenAIEmbeddings\n",
    "from langchain_openai import OpenAI\n",
    "from dotenv import load_dotenv\n",
    "load_dotenv()\n",
    "from langchain_community.embeddings import HuggingFaceEmbeddings\n",
    "\n",
    "embedding = HuggingFaceEmbeddings(model_name=\"all-MiniLM-L6-v2\")\n",
    "vectorstore = Chroma.from_documents(docs, embedding=embedding)\n"
   ]
  },
  {
   "cell_type": "code",
   "execution_count": 6,
   "id": "95a78612-e69f-4a9f-9f66-77e11e52f794",
   "metadata": {},
   "outputs": [],
   "source": [
    "retriever = vectorstore.as_retriever(search_type=\"similarity\", search_kwargs={\"k\": 6})\n",
    "\n",
    "retrieved_docs = retriever.invoke(\"What kind of services they provide?\")\n"
   ]
  },
  {
   "cell_type": "code",
   "execution_count": 7,
   "id": "d4e7cca7-664b-462f-846c-6d63f67ad440",
   "metadata": {},
   "outputs": [
    {
     "data": {
      "text/plain": [
       "6"
      ]
     },
     "execution_count": 7,
     "metadata": {},
     "output_type": "execute_result"
    }
   ],
   "source": [
    "len(retrieved_docs)"
   ]
  },
  {
   "cell_type": "code",
   "execution_count": 8,
   "id": "12c016a2-08cf-44ec-9a24-b5c3593f8024",
   "metadata": {},
   "outputs": [
    {
     "name": "stdout",
     "output_type": "stream",
     "text": [
      "Read more\n",
      "\n",
      "DrySign Logo\n",
      "\n",
      "Everyday Signing Made Easy\n",
      "\n",
      "Secure and legally binding signatures on the go.\n",
      "\n",
      "Read more\n",
      "\n",
      "Digital Mailroom Logo\n",
      "\n",
      "Digital Mailroom\n",
      "\n",
      "Streamline your mail delivery process.\n",
      "\n",
      "Read more\n",
      "\n",
      "EHRS Logo\n",
      "\n",
      "Revolutionizing Human Resource Management\n",
      "\n",
      "Powerful HR solutions to accelerate performance and business growth.\n",
      "\n",
      "Read more\n",
      "\n",
      "PCH Global\n",
      "\n",
      "PCH Global\n",
      "\n",
      "Experience a unified environment between providers, payers, and patients with a centralized access for claims management.\n",
      "\n",
      "Read more\n",
      "\n",
      "XME Logo\n",
      "\n",
      "Driving Market Results\n",
      "\n",
      "Integrated solutions to execute end-to-end marketing approach.\n",
      "\n",
      "Read more\n",
      "\n",
      "XES Logo\n",
      "\n",
      "Exela Enterprise Solutions\n",
      "\n",
      "Transform your business with the power of human insight and technology with Exela Enterprise Solutions.\n",
      "\n",
      "Read more\n",
      "\n",
      "See all Solutions\n",
      "\n",
      "XBP\n",
      "\n",
      "Optimize Accounts Payables and Receivables in One Simple Platform\n"
     ]
    }
   ],
   "source": [
    "print(retrieved_docs[1].page_content)"
   ]
  },
  {
   "cell_type": "code",
   "execution_count": 9,
   "id": "2ef6353b-1fdd-4e7e-95e1-7c2e6846924f",
   "metadata": {},
   "outputs": [],
   "source": [
    "llm = OpenAI(temperature=0.4, max_tokens=500)"
   ]
  },
  {
   "cell_type": "code",
   "execution_count": 10,
   "id": "b100ad98-7922-47e8-bdcf-f8b2bd24a056",
   "metadata": {},
   "outputs": [],
   "source": [
    "from langchain.chains import create_retrieval_chain\n",
    "from langchain.chains.combine_documents import create_stuff_documents_chain\n",
    "from langchain_core.prompts import ChatPromptTemplate\n",
    "\n",
    "system_prompt = (\n",
    "    \"You are an assistant for question-answering tasks. \"\n",
    "    \"Use the following pieces of retrieved context to answer \"\n",
    "    \"the question. If you don't know the answer, say that you \"\n",
    "    \"don't know. Use three sentences maximum and keep the \"\n",
    "    \"answer concise.\"\n",
    "    \"\\n\\n\"\n",
    "    \"{context}\"\n",
    ")\n",
    "\n",
    "prompt = ChatPromptTemplate.from_messages(\n",
    "    [\n",
    "        (\"system\", system_prompt),\n",
    "        (\"human\", \"{input}\"),\n",
    "    ]\n",
    ")"
   ]
  },
  {
   "cell_type": "code",
   "execution_count": 11,
   "id": "2a0168bb-7d01-43fe-bf4a-39c50962164d",
   "metadata": {},
   "outputs": [],
   "source": [
    "\n",
    "question_answer_chain = create_stuff_documents_chain(llm, prompt)\n",
    "rag_chain = create_retrieval_chain(retriever, question_answer_chain)"
   ]
  },
  {
   "cell_type": "code",
   "execution_count": null,
   "id": "d42dbf97-6559-407b-bd9d-499d3b13963f",
   "metadata": {},
   "outputs": [],
   "source": [
    "response = rag_chain.invoke({\"input\": \"What kind of services they provide?\"})\n",
    "print(response[\"answer\"])"
   ]
  }
 ],
 "metadata": {
  "kernelspec": {
   "display_name": "Python 3 (ipykernel)",
   "language": "python",
   "name": "python3"
  },
  "language_info": {
   "codemirror_mode": {
    "name": "ipython",
    "version": 3
   },
   "file_extension": ".py",
   "mimetype": "text/x-python",
   "name": "python",
   "nbconvert_exporter": "python",
   "pygments_lexer": "ipython3",
   "version": "3.10.18"
  }
 },
 "nbformat": 4,
 "nbformat_minor": 5
}
